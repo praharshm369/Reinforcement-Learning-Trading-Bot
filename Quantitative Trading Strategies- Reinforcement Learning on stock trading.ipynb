{
 "cells": [
  {
   "cell_type": "markdown",
   "metadata": {},
   "source": [
    "# Machine Learning Project- Building a Deep Reinforcement Learning Trading Bot\n",
    "\n",
    "## - Praharsh Mehrotra (906306085)"
   ]
  },
  {
   "cell_type": "code",
   "execution_count": 1,
   "metadata": {},
   "outputs": [],
   "source": [
    "# Importing Modules\n",
    "\n",
    "import pandas as pd\n",
    "import numpy as np\n",
    "import yfinance as yf\n",
    "import pandas_ta as ta\n",
    "from sklearn.preprocessing import StandardScaler\n",
    "import gym\n",
    "from gym import spaces\n",
    "\n",
    "from sklearn.model_selection import train_test_split\n",
    "import random\n",
    "import matplotlib.pyplot as plt\n",
    "\n",
    "import optuna\n",
    "import gym\n",
    "import torch\n",
    "from stable_baselines3 import DQN\n",
    "from stable_baselines3 import PPO\n",
    "from stable_baselines3.common.callbacks import EvalCallback\n",
    "from stable_baselines3.common.evaluation import evaluate_policy\n",
    "from stable_baselines3.common.utils import set_random_seed\n",
    "from stable_baselines3.common.utils import obs_as_tensor\n",
    "import tqdm\n",
    "import rich\n",
    "import os\n",
    "from stable_baselines3.common.utils import get_linear_fn\n",
    "from stable_baselines3.common.logger import configure\n",
    "import torch.nn.functional as F"
   ]
  },
  {
   "cell_type": "code",
   "execution_count": 2,
   "metadata": {},
   "outputs": [],
   "source": [
    "seed_value = 42"
   ]
  },
  {
   "cell_type": "code",
   "execution_count": 3,
   "metadata": {},
   "outputs": [
    {
     "data": {
      "text/plain": [
       "<torch._C.Generator at 0x228b80781f0>"
      ]
     },
     "execution_count": 3,
     "metadata": {},
     "output_type": "execute_result"
    }
   ],
   "source": [
    "# Set random seeds for reproducibility\n",
    "set_random_seed(seed_value)\n",
    "random.seed(seed_value)\n",
    "np.random.seed(seed_value)\n",
    "torch.manual_seed(seed_value)\n"
   ]
  },
  {
   "cell_type": "code",
   "execution_count": 4,
   "metadata": {},
   "outputs": [
    {
     "name": "stdout",
     "output_type": "stream",
     "text": [
      "YF.download() has changed argument auto_adjust default to True\n"
     ]
    },
    {
     "name": "stderr",
     "output_type": "stream",
     "text": [
      "[*********************100%***********************]  1 of 1 completed\n",
      "[*********************100%***********************]  1 of 1 completed\n",
      "[*********************100%***********************]  1 of 1 completed\n"
     ]
    }
   ],
   "source": [
    "table = pd.read_html('https://en.wikipedia.org/wiki/List_of_S%26P_500_companies')\n",
    "df = table[0]\n",
    "stockdata = df['Symbol'].to_list()\n",
    "\n",
    "full_stock_data = yf.download('AAPL', '1980-01-01',threads=False)\n",
    "vix_data = yf.download('^VIX', '1980-01-01',threads=False)\n",
    "spy_data = yf.download('^GSPC', '1980-01-01',threads=False)"
   ]
  },
  {
   "cell_type": "code",
   "execution_count": 5,
   "metadata": {},
   "outputs": [],
   "source": [
    "# Get the latest price and time\n",
    "full_stock_data.fillna(method='ffill', inplace=True)\n",
    "latest_price = full_stock_data['Close']\n",
    "adj_lat_price = full_stock_data['Close']\n",
    "volume = full_stock_data['Volume']\n",
    "\n",
    "# Taking apple stock price\n",
    "aapl_close = adj_lat_price[['AAPL']]"
   ]
  },
  {
   "cell_type": "code",
   "execution_count": 14,
   "metadata": {},
   "outputs": [
    {
     "data": {
      "text/html": [
       "<div>\n",
       "<style scoped>\n",
       "    .dataframe tbody tr th:only-of-type {\n",
       "        vertical-align: middle;\n",
       "    }\n",
       "\n",
       "    .dataframe tbody tr th {\n",
       "        vertical-align: top;\n",
       "    }\n",
       "\n",
       "    .dataframe thead th {\n",
       "        text-align: right;\n",
       "    }\n",
       "</style>\n",
       "<table border=\"1\" class=\"dataframe\">\n",
       "  <thead>\n",
       "    <tr style=\"text-align: right;\">\n",
       "      <th>Ticker</th>\n",
       "      <th>AAPL</th>\n",
       "    </tr>\n",
       "    <tr>\n",
       "      <th>Date</th>\n",
       "      <th></th>\n",
       "    </tr>\n",
       "  </thead>\n",
       "  <tbody>\n",
       "    <tr>\n",
       "      <th>1980-12-12</th>\n",
       "      <td>0.098726</td>\n",
       "    </tr>\n",
       "    <tr>\n",
       "      <th>1980-12-15</th>\n",
       "      <td>0.093575</td>\n",
       "    </tr>\n",
       "    <tr>\n",
       "      <th>1980-12-16</th>\n",
       "      <td>0.086707</td>\n",
       "    </tr>\n",
       "    <tr>\n",
       "      <th>1980-12-17</th>\n",
       "      <td>0.088853</td>\n",
       "    </tr>\n",
       "    <tr>\n",
       "      <th>1980-12-18</th>\n",
       "      <td>0.091429</td>\n",
       "    </tr>\n",
       "    <tr>\n",
       "      <th>...</th>\n",
       "      <td>...</td>\n",
       "    </tr>\n",
       "    <tr>\n",
       "      <th>2025-03-17</th>\n",
       "      <td>214.000000</td>\n",
       "    </tr>\n",
       "    <tr>\n",
       "      <th>2025-03-18</th>\n",
       "      <td>212.690002</td>\n",
       "    </tr>\n",
       "    <tr>\n",
       "      <th>2025-03-19</th>\n",
       "      <td>215.240005</td>\n",
       "    </tr>\n",
       "    <tr>\n",
       "      <th>2025-03-20</th>\n",
       "      <td>214.100006</td>\n",
       "    </tr>\n",
       "    <tr>\n",
       "      <th>2025-03-21</th>\n",
       "      <td>218.270004</td>\n",
       "    </tr>\n",
       "  </tbody>\n",
       "</table>\n",
       "<p>11159 rows × 1 columns</p>\n",
       "</div>"
      ],
      "text/plain": [
       "Ticker            AAPL\n",
       "Date                  \n",
       "1980-12-12    0.098726\n",
       "1980-12-15    0.093575\n",
       "1980-12-16    0.086707\n",
       "1980-12-17    0.088853\n",
       "1980-12-18    0.091429\n",
       "...                ...\n",
       "2025-03-17  214.000000\n",
       "2025-03-18  212.690002\n",
       "2025-03-19  215.240005\n",
       "2025-03-20  214.100006\n",
       "2025-03-21  218.270004\n",
       "\n",
       "[11159 rows x 1 columns]"
      ]
     },
     "execution_count": 14,
     "metadata": {},
     "output_type": "execute_result"
    }
   ],
   "source": [
    "aapl_close"
   ]
  },
  {
   "cell_type": "markdown",
   "metadata": {},
   "source": [
    "### Engineered Features"
   ]
  },
  {
   "cell_type": "code",
   "execution_count": 15,
   "metadata": {},
   "outputs": [],
   "source": [
    "pre_data = aapl_close.copy()"
   ]
  },
  {
   "cell_type": "code",
   "execution_count": 16,
   "metadata": {},
   "outputs": [],
   "source": [
    "# Features Used\n",
    "\n",
    "pre_data['mov_avg'] = pre_data['AAPL'].rolling(10).mean()\n",
    "pre_data['lag_1'] = pre_data['AAPL'].shift(1)\n",
    "pre_data['lag_2'] = pre_data['AAPL'].shift(2)\n",
    "pre_data['rsi'] = ta.rsi(pre_data['AAPL'], length=14)\n",
    "pre_data['vix'] = vix_data['Close']['^VIX']\n",
    "pre_data['spy'] = spy_data['Close']['^GSPC']\n",
    "pre_data['volume'] = volume"
   ]
  },
  {
   "cell_type": "code",
   "execution_count": 17,
   "metadata": {},
   "outputs": [],
   "source": [
    "# Rescaling data since RL models perform better on normalized data\n",
    "\n",
    "scalar = StandardScaler()\n",
    "pre_processed_data = scalar.fit_transform(pre_data)\n"
   ]
  },
  {
   "cell_type": "code",
   "execution_count": 18,
   "metadata": {},
   "outputs": [],
   "source": [
    "pre_processed_data = pd.DataFrame(pre_processed_data, columns = pre_data.columns, index = pre_data.index)"
   ]
  },
  {
   "cell_type": "code",
   "execution_count": 19,
   "metadata": {},
   "outputs": [],
   "source": [
    "# Splitting into train and test\n",
    "\n",
    "train_data,test_data = train_test_split(pre_processed_data, train_size = 0.8, shuffle = False)"
   ]
  },
  {
   "cell_type": "code",
   "execution_count": 21,
   "metadata": {},
   "outputs": [],
   "source": [
    "train_data.dropna(inplace = True)"
   ]
  },
  {
   "cell_type": "code",
   "execution_count": 22,
   "metadata": {},
   "outputs": [
    {
     "data": {
      "text/html": [
       "<div>\n",
       "<style scoped>\n",
       "    .dataframe tbody tr th:only-of-type {\n",
       "        vertical-align: middle;\n",
       "    }\n",
       "\n",
       "    .dataframe tbody tr th {\n",
       "        vertical-align: top;\n",
       "    }\n",
       "\n",
       "    .dataframe thead th {\n",
       "        text-align: right;\n",
       "    }\n",
       "</style>\n",
       "<table border=\"1\" class=\"dataframe\">\n",
       "  <thead>\n",
       "    <tr style=\"text-align: right;\">\n",
       "      <th>Ticker</th>\n",
       "      <th>AAPL</th>\n",
       "      <th>mov_avg</th>\n",
       "      <th>lag_1</th>\n",
       "      <th>lag_2</th>\n",
       "      <th>rsi</th>\n",
       "      <th>vix</th>\n",
       "      <th>spy</th>\n",
       "      <th>volume</th>\n",
       "    </tr>\n",
       "    <tr>\n",
       "      <th>Date</th>\n",
       "      <th></th>\n",
       "      <th></th>\n",
       "      <th></th>\n",
       "      <th></th>\n",
       "      <th></th>\n",
       "      <th></th>\n",
       "      <th></th>\n",
       "      <th></th>\n",
       "    </tr>\n",
       "  </thead>\n",
       "  <tbody>\n",
       "    <tr>\n",
       "      <th>1990-01-02</th>\n",
       "      <td>-0.469160</td>\n",
       "      <td>-0.469343</td>\n",
       "      <td>-0.469371</td>\n",
       "      <td>-0.469391</td>\n",
       "      <td>-0.703209</td>\n",
       "      <td>-0.284285</td>\n",
       "      <td>-0.805541</td>\n",
       "      <td>-0.391634</td>\n",
       "    </tr>\n",
       "    <tr>\n",
       "      <th>1990-01-03</th>\n",
       "      <td>-0.469126</td>\n",
       "      <td>-0.469305</td>\n",
       "      <td>-0.469099</td>\n",
       "      <td>-0.469305</td>\n",
       "      <td>-0.607379</td>\n",
       "      <td>-0.162856</td>\n",
       "      <td>-0.806254</td>\n",
       "      <td>-0.317515</td>\n",
       "    </tr>\n",
       "    <tr>\n",
       "      <th>1990-01-04</th>\n",
       "      <td>-0.469109</td>\n",
       "      <td>-0.469269</td>\n",
       "      <td>-0.469065</td>\n",
       "      <td>-0.469033</td>\n",
       "      <td>-0.557484</td>\n",
       "      <td>-0.031202</td>\n",
       "      <td>-0.808625</td>\n",
       "      <td>-0.277107</td>\n",
       "    </tr>\n",
       "    <tr>\n",
       "      <th>1990-01-05</th>\n",
       "      <td>-0.469092</td>\n",
       "      <td>-0.469242</td>\n",
       "      <td>-0.469048</td>\n",
       "      <td>-0.468998</td>\n",
       "      <td>-0.505109</td>\n",
       "      <td>0.082558</td>\n",
       "      <td>-0.811288</td>\n",
       "      <td>-0.570640</td>\n",
       "    </tr>\n",
       "    <tr>\n",
       "      <th>1990-01-08</th>\n",
       "      <td>-0.469058</td>\n",
       "      <td>-0.469218</td>\n",
       "      <td>-0.469031</td>\n",
       "      <td>-0.468981</td>\n",
       "      <td>-0.396681</td>\n",
       "      <td>0.101731</td>\n",
       "      <td>-0.810068</td>\n",
       "      <td>-0.635620</td>\n",
       "    </tr>\n",
       "    <tr>\n",
       "      <th>...</th>\n",
       "      <td>...</td>\n",
       "      <td>...</td>\n",
       "      <td>...</td>\n",
       "      <td>...</td>\n",
       "      <td>...</td>\n",
       "      <td>...</td>\n",
       "      <td>...</td>\n",
       "      <td>...</td>\n",
       "    </tr>\n",
       "    <tr>\n",
       "      <th>2016-04-29</th>\n",
       "      <td>-0.060979</td>\n",
       "      <td>-0.019355</td>\n",
       "      <td>-0.055870</td>\n",
       "      <td>-0.042375</td>\n",
       "      <td>-2.423007</td>\n",
       "      <td>-0.481127</td>\n",
       "      <td>0.503350</td>\n",
       "      <td>-0.119844</td>\n",
       "    </tr>\n",
       "    <tr>\n",
       "      <th>2016-05-02</th>\n",
       "      <td>-0.061420</td>\n",
       "      <td>-0.025472</td>\n",
       "      <td>-0.060678</td>\n",
       "      <td>-0.055571</td>\n",
       "      <td>-2.431671</td>\n",
       "      <td>-0.611503</td>\n",
       "      <td>0.515728</td>\n",
       "      <td>-0.363411</td>\n",
       "    </tr>\n",
       "    <tr>\n",
       "      <th>2016-05-03</th>\n",
       "      <td>-0.054631</td>\n",
       "      <td>-0.030657</td>\n",
       "      <td>-0.061119</td>\n",
       "      <td>-0.060382</td>\n",
       "      <td>-1.950307</td>\n",
       "      <td>-0.493909</td>\n",
       "      <td>0.501869</td>\n",
       "      <td>-0.259735</td>\n",
       "    </tr>\n",
       "    <tr>\n",
       "      <th>2016-05-04</th>\n",
       "      <td>-0.058995</td>\n",
       "      <td>-0.036377</td>\n",
       "      <td>-0.054326</td>\n",
       "      <td>-0.060824</td>\n",
       "      <td>-2.061834</td>\n",
       "      <td>-0.436390</td>\n",
       "      <td>0.492469</td>\n",
       "      <td>-0.448715</td>\n",
       "    </tr>\n",
       "    <tr>\n",
       "      <th>2016-05-05</th>\n",
       "      <td>-0.060681</td>\n",
       "      <td>-0.041754</td>\n",
       "      <td>-0.058693</td>\n",
       "      <td>-0.054027</td>\n",
       "      <td>-2.104846</td>\n",
       "      <td>-0.454285</td>\n",
       "      <td>0.492092</td>\n",
       "      <td>-0.510111</td>\n",
       "    </tr>\n",
       "  </tbody>\n",
       "</table>\n",
       "<p>6639 rows × 8 columns</p>\n",
       "</div>"
      ],
      "text/plain": [
       "Ticker          AAPL   mov_avg     lag_1     lag_2       rsi       vix  \\\n",
       "Date                                                                     \n",
       "1990-01-02 -0.469160 -0.469343 -0.469371 -0.469391 -0.703209 -0.284285   \n",
       "1990-01-03 -0.469126 -0.469305 -0.469099 -0.469305 -0.607379 -0.162856   \n",
       "1990-01-04 -0.469109 -0.469269 -0.469065 -0.469033 -0.557484 -0.031202   \n",
       "1990-01-05 -0.469092 -0.469242 -0.469048 -0.468998 -0.505109  0.082558   \n",
       "1990-01-08 -0.469058 -0.469218 -0.469031 -0.468981 -0.396681  0.101731   \n",
       "...              ...       ...       ...       ...       ...       ...   \n",
       "2016-04-29 -0.060979 -0.019355 -0.055870 -0.042375 -2.423007 -0.481127   \n",
       "2016-05-02 -0.061420 -0.025472 -0.060678 -0.055571 -2.431671 -0.611503   \n",
       "2016-05-03 -0.054631 -0.030657 -0.061119 -0.060382 -1.950307 -0.493909   \n",
       "2016-05-04 -0.058995 -0.036377 -0.054326 -0.060824 -2.061834 -0.436390   \n",
       "2016-05-05 -0.060681 -0.041754 -0.058693 -0.054027 -2.104846 -0.454285   \n",
       "\n",
       "Ticker           spy    volume  \n",
       "Date                            \n",
       "1990-01-02 -0.805541 -0.391634  \n",
       "1990-01-03 -0.806254 -0.317515  \n",
       "1990-01-04 -0.808625 -0.277107  \n",
       "1990-01-05 -0.811288 -0.570640  \n",
       "1990-01-08 -0.810068 -0.635620  \n",
       "...              ...       ...  \n",
       "2016-04-29  0.503350 -0.119844  \n",
       "2016-05-02  0.515728 -0.363411  \n",
       "2016-05-03  0.501869 -0.259735  \n",
       "2016-05-04  0.492469 -0.448715  \n",
       "2016-05-05  0.492092 -0.510111  \n",
       "\n",
       "[6639 rows x 8 columns]"
      ]
     },
     "execution_count": 22,
     "metadata": {},
     "output_type": "execute_result"
    }
   ],
   "source": [
    "train_data"
   ]
  },
  {
   "cell_type": "markdown",
   "metadata": {},
   "source": [
    "### Creating a Custom Trading Environment For Reinforcement Learning"
   ]
  },
  {
   "cell_type": "code",
   "execution_count": 23,
   "metadata": {},
   "outputs": [],
   "source": [
    "import enum\n",
    "\n",
    "class Actions(enum.Enum):\n",
    "    Hold = 0\n",
    "    Buy = 1\n",
    "    Sell = 2"
   ]
  },
  {
   "cell_type": "code",
   "execution_count": 24,
   "metadata": {},
   "outputs": [],
   "source": [
    "class trading_env(gym.Env):\n",
    "    metadata = {'render_env':'human'}\n",
    "    \n",
    "    def __init__(self, \n",
    "                data, \n",
    "                eng_columns = ['mov_avg','lag_1', 'lag_2', 'rsi', 'vix','spy','volume'],\n",
    "                starting_balance = 100,\n",
    "                price_column = 'AAPL',\n",
    "                sample_days = 30,\n",
    "                commission_rate = 0.001,\n",
    "                random_on_reset = True):\n",
    "        \n",
    "        \n",
    "        \n",
    "        super(trading_env,self).__init__()\n",
    "        \n",
    "        self.eng_columns = eng_columns\n",
    "        self.starting_balance = starting_balance\n",
    "        self.price_column = price_column\n",
    "        self.sample_days = sample_days\n",
    "        self.commission_rate = commission_rate\n",
    "        self.random_on_reset = random_on_reset\n",
    "        self.data = data\n",
    "        \n",
    "        self.cur_step = sample_days\n",
    "        self.action_space = spaces.Discrete(len(Actions))\n",
    "        self.observation_space = spaces.Box(low = -np.inf, high = np.inf, shape = (len(self.eng_columns)*self.sample_days + 3,), dtype = np.float64)\n",
    "        self.reward_range = (-np.inf,np.inf)\n",
    "        self.cash = starting_balance\n",
    "        self.shares = 0\n",
    "    \n",
    "    def take_action(self, action):\n",
    "        if action == 1:\n",
    "            if (self.shares == 0):\n",
    "                buy_price = self.cur_close_price * (1 + self.commission_rate)\n",
    "                self.shares = self.cash/buy_price\n",
    "                self.cash = self.cash - (self.shares * buy_price)\n",
    "                \n",
    "                \n",
    "        elif action == 2:\n",
    "            if (self.shares > 0):\n",
    "                sell_price = self.cur_close_price * (1 - self.commission_rate)\n",
    "                self.cash = self.cash + (self.shares * sell_price)\n",
    "                \n",
    "                self.shares = 0\n",
    "\n",
    "        \n",
    "    \n",
    "        \n",
    "\n",
    "    def step(self, action):\n",
    "        balance = self.cur_balance\n",
    "        price = self.cur_close_price\n",
    "        self.cur_step = self.cur_step + 1\n",
    "        if self.cur_step == self.total_steps:\n",
    "            \n",
    "            self.cur_step = self.sample_days\n",
    "            \n",
    "        \n",
    "        self.take_action(action)\n",
    "        \n",
    "        obs = self.next_observation(action)\n",
    "        \n",
    "        #if action == 0:\n",
    "        reward = (self.cur_balance/balance)-(self.cur_close_price/price) #- 1 - 0.5\n",
    "        #else:\n",
    "            #reward = (self.cur_balance/balance)- 1 + 0.5\n",
    "            \n",
    "\n",
    "        done = self.cur_step >= self.total_steps - 1\n",
    "        info = {'Date': self.cur_data.index[self.cur_step],\n",
    "                'Reward' : reward,\n",
    "                'Action' : Actions(action).name,\n",
    "                'Shares' : self.shares,\n",
    "                'Close' : self.cur_close_price,\n",
    "                'Cash' : self.cash,\n",
    "                'Total' : self.cur_balance}\n",
    "        \n",
    "        if done:\n",
    "           \n",
    "            self.reset()\n",
    "            \n",
    "        return obs, reward, done, info\n",
    "                \n",
    "                \n",
    "    def next_observation(self, action):\n",
    "        observation = []\n",
    "        \n",
    "        for i in range(self.sample_days, 0, -1):\n",
    "            observation = np.append(observation, self.cur_indicators.values[self.cur_step - i + 1])\n",
    "        return (np.append(observation, [self.cash, self.shares * self.cur_close_price , action]))\n",
    "        \n",
    "        \n",
    "    \n",
    "    def reset(self):\n",
    "        self.cash = self.starting_balance\n",
    "        self.shares = 0\n",
    "        return (self.next_observation(Actions.Hold.value))\n",
    "    \n",
    "    \n",
    "    @property\n",
    "    def cur_data(self):\n",
    "        return self.data\n",
    "    \n",
    "    @property\n",
    "    def cur_indicators(self):\n",
    "        return self.cur_data[self.eng_columns]\n",
    "    \n",
    "    @property\n",
    "    def total_steps(self):\n",
    "        return len(self.cur_data)\n",
    "    \n",
    "    @property    \n",
    "    def cur_close_price(self):\n",
    "        return self.cur_data[self.price_column][self.cur_step]\n",
    "    \n",
    "    @property\n",
    "    def cur_balance(self):\n",
    "        return self.cash + (self.shares * self.cur_close_price)\n",
    "    \n",
    "    def seed(self, seed_value):\n",
    "    # Set the seed for the environment's random number generators\n",
    "        np.random.seed(seed_value)\n",
    "        random.seed(seed_value)\n",
    "\n",
    "    \n",
    "    "
   ]
  },
  {
   "cell_type": "code",
   "execution_count": 25,
   "metadata": {},
   "outputs": [],
   "source": [
    "# Set PYTHONHASHSEED for hash-based operations\n",
    "os.environ[\"PYTHONHASHSEED\"] = \"42\"\n",
    "os.environ[\"OMP_NUM_THREADS\"] = \"1\"\n",
    "os.environ[\"MKL_NUM_THREADS\"] = \"1\"\n",
    "os.environ[\"NUMEXPR_NUM_THREADS\"] = \"1\"\n",
    "os.environ[\"TORCH_NUM_THREADS\"] = \"1\""
   ]
  },
  {
   "cell_type": "code",
   "execution_count": 26,
   "metadata": {},
   "outputs": [
    {
     "data": {
      "text/plain": [
       "[42]"
      ]
     },
     "execution_count": 26,
     "metadata": {},
     "output_type": "execute_result"
    }
   ],
   "source": [
    "# Initialize environment\n",
    "\n",
    "env = trading_env(train_data)\n",
    "env.seed(seed_value)\n",
    "env.action_space.seed(seed_value)\n",
    "#env.observation_space.seed(seed_value)"
   ]
  },
  {
   "cell_type": "code",
   "execution_count": 27,
   "metadata": {},
   "outputs": [],
   "source": [
    "# Using a GPU\n",
    "device = torch.device(\"cuda\")"
   ]
  },
  {
   "cell_type": "code",
   "execution_count": 28,
   "metadata": {},
   "outputs": [],
   "source": [
    "# Learning rate decay function\n",
    "\n",
    "def lr_schedule(progress_remaining: float) -> float:\n",
    "    # Linearly decay learning rate from 3e-4 to 1e-5\n",
    "    return 3e-4 * progress_remaining  # Decrease the learning rate over time"
   ]
  },
  {
   "cell_type": "markdown",
   "metadata": {},
   "source": [
    "## DQN Model"
   ]
  },
  {
   "cell_type": "code",
   "execution_count": 29,
   "metadata": {},
   "outputs": [
    {
     "name": "stdout",
     "output_type": "stream",
     "text": [
      "Using cpu device\n",
      "Wrapping the env with a `Monitor` wrapper\n",
      "Wrapping the env in a DummyVecEnv.\n"
     ]
    },
    {
     "name": "stderr",
     "output_type": "stream",
     "text": [
      "C:\\Python\\lib\\site-packages\\stable_baselines3\\common\\vec_env\\patch_gym.py:50: UserWarning: You provided an OpenAI Gym environment. We strongly recommend transitioning to Gymnasium environments. Stable-Baselines3 is automatically wrapping your environments in a compatibility layer, which could potentially cause issues.\n",
      "  \"You provided an OpenAI Gym environment. \"\n"
     ]
    }
   ],
   "source": [
    "# Initial Model creation\n",
    "\n",
    "model = DQN('MlpPolicy',env, learning_rate = lr_schedule, verbose = 1, device = device, exploration_initial_eps  = 1, exploration_final_eps = 0.1, exploration_fraction = 0.5, seed = seed_value, buffer_size=100000)"
   ]
  },
  {
   "cell_type": "code",
   "execution_count": 59,
   "metadata": {},
   "outputs": [
    {
     "name": "stderr",
     "output_type": "stream",
     "text": [
      "C:\\Python\\lib\\site-packages\\stable_baselines3\\common\\vec_env\\patch_gym.py:50: UserWarning: You provided an OpenAI Gym environment. We strongly recommend transitioning to Gymnasium environments. Stable-Baselines3 is automatically wrapping your environments in a compatibility layer, which could potentially cause issues.\n",
      "  \"You provided an OpenAI Gym environment. \"\n"
     ]
    },
    {
     "name": "stdout",
     "output_type": "stream",
     "text": [
      "Wrapping the env with a `Monitor` wrapper\n",
      "Wrapping the env in a DummyVecEnv.\n",
      "Wrapping the env with a `Monitor` wrapper\n",
      "Wrapping the env in a DummyVecEnv.\n"
     ]
    },
    {
     "data": {
      "application/vnd.jupyter.widget-view+json": {
       "model_id": "bd660e77d2b741cc8697eea03ad3a6f2",
       "version_major": 2,
       "version_minor": 0
      },
      "text/plain": [
       "Output()"
      ]
     },
     "metadata": {},
     "output_type": "display_data"
    },
    {
     "data": {
      "text/html": [
       "<pre style=\"white-space:pre;overflow-x:auto;line-height:normal;font-family:Menlo,'DejaVu Sans Mono',consolas,'Courier New',monospace\"></pre>\n"
      ],
      "text/plain": []
     },
     "metadata": {},
     "output_type": "display_data"
    },
    {
     "data": {
      "application/vnd.jupyter.widget-view+json": {
       "model_id": "053e17ed31284c1d9e18289fac208455",
       "version_major": 2,
       "version_minor": 0
      },
      "text/plain": [
       "Output()"
      ]
     },
     "metadata": {},
     "output_type": "display_data"
    },
    {
     "name": "stdout",
     "output_type": "stream",
     "text": [
      "0\n",
      "Wrapping the env with a `Monitor` wrapper\n",
      "Wrapping the env in a DummyVecEnv.\n"
     ]
    },
    {
     "data": {
      "text/html": [
       "<pre style=\"white-space:pre;overflow-x:auto;line-height:normal;font-family:Menlo,'DejaVu Sans Mono',consolas,'Courier New',monospace\"></pre>\n"
      ],
      "text/plain": []
     },
     "metadata": {},
     "output_type": "display_data"
    },
    {
     "data": {
      "application/vnd.jupyter.widget-view+json": {
       "model_id": "a5754efe619f43bd9e440e7665acd11f",
       "version_major": 2,
       "version_minor": 0
      },
      "text/plain": [
       "Output()"
      ]
     },
     "metadata": {},
     "output_type": "display_data"
    },
    {
     "name": "stdout",
     "output_type": "stream",
     "text": [
      "1\n",
      "Wrapping the env with a `Monitor` wrapper\n",
      "Wrapping the env in a DummyVecEnv.\n"
     ]
    },
    {
     "data": {
      "text/html": [
       "<pre style=\"white-space:pre;overflow-x:auto;line-height:normal;font-family:Menlo,'DejaVu Sans Mono',consolas,'Courier New',monospace\"></pre>\n"
      ],
      "text/plain": []
     },
     "metadata": {},
     "output_type": "display_data"
    },
    {
     "name": "stdout",
     "output_type": "stream",
     "text": [
      "2\n"
     ]
    }
   ],
   "source": [
    "model = DQN.load('nyse_dqn_model.pt',env=env)\n",
    "model.save_replay_buffer(\"replay_buffer.pkl\")\n",
    "model.load_replay_buffer(\"replay_buffer.pkl\")\n",
    "\n",
    "for i in range(3):\n",
    "    model.save('nyse_dqn_model.pt')\n",
    "    model = DQN.load('nyse_dqn_model.pt',env=env)\n",
    "\n",
    "    tmp_path = \"/tmp/sb3_log/\"\n",
    "\n",
    "    #new_logger = configure(tmp_path, [\"stdout\", \"csv\", \"tensorboard\"])\n",
    "\n",
    "    \n",
    "    model.learn(total_timesteps=5000, log_interval=10,progress_bar = True)\n",
    "\n",
    "\n",
    "    print(i)\n"
   ]
  },
  {
   "cell_type": "code",
   "execution_count": 60,
   "metadata": {},
   "outputs": [
    {
     "data": {
      "image/png": "[encoded data removed]",
      "text/plain": [
       "<Figure size 432x288 with 1 Axes>"
      ]
     },
     "metadata": {
      "needs_background": "light"
     },
     "output_type": "display_data"
    }
   ],
   "source": [
    "# Import Q values\n",
    "\n",
    "import torch\n",
    "\n",
    "# Get Q-values for some sample states\n",
    "sample_states = []\n",
    "for i in range(100):\n",
    "    action = env.action_space.sample()  # Choose random action\n",
    "    state, reward, done, info = env.step(action)\n",
    "    sample_states.append(state)  # Append state to sample_states\n",
    "sample_states = np.array(sample_states)\n",
    "\n",
    "# Convert sample states to tensor\n",
    "sample_states_tensor = torch.tensor(sample_states, dtype=torch.float32)\n",
    "\n",
    "q_values = model.q_net(torch.tensor(sample_states)).detach().numpy()\n",
    "plt.hist(q_values.flatten(), bins = 30)\n",
    "plt.show()"
   ]
  },
  {
   "cell_type": "code",
   "execution_count": 61,
   "metadata": {},
   "outputs": [
    {
     "data": {
      "text/plain": [
       "[42]"
      ]
     },
     "execution_count": 61,
     "metadata": {},
     "output_type": "execute_result"
    }
   ],
   "source": [
    "# Setting prediction environent seed\n",
    "\n",
    "env_test = trading_env(test_data)\n",
    "env_test.seed(seed_value)\n",
    "env_test.action_space.seed(seed_value)\n"
   ]
  },
  {
   "cell_type": "code",
   "execution_count": 62,
   "metadata": {},
   "outputs": [
    {
     "data": {
      "text/plain": [
       "[42]"
      ]
     },
     "execution_count": 62,
     "metadata": {},
     "output_type": "execute_result"
    }
   ],
   "source": [
    "# Prediction environment\n",
    "\n",
    "test_data_denorm = pd.DataFrame(scalar.inverse_transform(test_data), columns = test_data.columns, index = test_data.index)\n",
    "env_denorm_test = trading_env(test_data_denorm)\n",
    "env_denorm_test.seed(seed_value)\n",
    "env_denorm_test.action_space.seed(seed_value)\n"
   ]
  },
  {
   "cell_type": "code",
   "execution_count": 63,
   "metadata": {
    "scrolled": true
   },
   "outputs": [
    {
     "name": "stderr",
     "output_type": "stream",
     "text": [
      "C:\\Python\\lib\\site-packages\\stable_baselines3\\common\\vec_env\\patch_gym.py:50: UserWarning: You provided an OpenAI Gym environment. We strongly recommend transitioning to Gymnasium environments. Stable-Baselines3 is automatically wrapping your environments in a compatibility layer, which could potentially cause issues.\n",
      "  \"You provided an OpenAI Gym environment. \"\n"
     ]
    },
    {
     "name": "stdout",
     "output_type": "stream",
     "text": [
      "Wrapping the env with a `Monitor` wrapper\n",
      "Wrapping the env in a DummyVecEnv.\n"
     ]
    }
   ],
   "source": [
    "# DQN Model Testing\n",
    "\n",
    "recs = []\n",
    "\n",
    "#model.set_env(DummyVecEnv([lambda:env_test]))\n",
    "model.set_env(env_test)\n",
    "obs = env_test.reset()\n",
    "done= False\n",
    "    \n",
    "rec = pd.DataFrame()\n",
    "\n",
    "while (done == False):\n",
    "    \n",
    "    action, _ = model.predict(obs)\n",
    "    \n",
    "    \n",
    "    obs, _, done, info = env_test.step(action)\n",
    "    \n",
    "    obs_2, _2, done_2, info_2 = env_denorm_test.step(action)\n",
    "    \n",
    "    rec = pd.concat([rec, pd.DataFrame(info_2, index = [info_2['Date']])])\n",
    "    \n",
    "\n",
    "    recs.append(rec)\n",
    "    \n",
    "    "
   ]
  },
  {
   "cell_type": "code",
   "execution_count": 64,
   "metadata": {
    "scrolled": false
   },
   "outputs": [
    {
     "data": {
      "image/png": "[encoded data removed]",
      "text/plain": [
       "<Figure size 720x864 with 1 Axes>"
      ]
     },
     "metadata": {
      "needs_background": "light"
     },
     "output_type": "display_data"
    }
   ],
   "source": [
    "# Result Plot\n",
    "\n",
    "plt.figure(figsize = (10,12))\n",
    "\n",
    "plt.plot(rec['Total'], label = 'DQN Model Bot Return')\n",
    "plt.plot((100/rec['Close'][0])*rec['Close'], label = 'Overall Buy & Hold Return')\n",
    "plt.xlabel('Test Data Time Period')\n",
    "plt.ylabel('Overall Balance')\n",
    "plt.title('Comparing DQN Model Predicted Balance Vs Buy & Hold Strategy', fontsize = 14, fontweight=\"bold\")\n",
    "\n",
    "plt.legend()\n",
    "plt.grid()\n",
    "plt.show()"
   ]
  },
  {
   "cell_type": "code",
   "execution_count": 65,
   "metadata": {},
   "outputs": [
    {
     "data": {
      "text/html": [
       "<div>\n",
       "<style scoped>\n",
       "    .dataframe tbody tr th:only-of-type {\n",
       "        vertical-align: middle;\n",
       "    }\n",
       "\n",
       "    .dataframe tbody tr th {\n",
       "        vertical-align: top;\n",
       "    }\n",
       "\n",
       "    .dataframe thead th {\n",
       "        text-align: right;\n",
       "    }\n",
       "</style>\n",
       "<table border=\"1\" class=\"dataframe\">\n",
       "  <thead>\n",
       "    <tr style=\"text-align: right;\">\n",
       "      <th></th>\n",
       "      <th>Date</th>\n",
       "      <th>Reward</th>\n",
       "      <th>Shares</th>\n",
       "      <th>Close</th>\n",
       "      <th>Cash</th>\n",
       "      <th>Total</th>\n",
       "    </tr>\n",
       "    <tr>\n",
       "      <th>Action</th>\n",
       "      <th></th>\n",
       "      <th></th>\n",
       "      <th></th>\n",
       "      <th></th>\n",
       "      <th></th>\n",
       "      <th></th>\n",
       "    </tr>\n",
       "  </thead>\n",
       "  <tbody>\n",
       "    <tr>\n",
       "      <th>Buy</th>\n",
       "      <td>198</td>\n",
       "      <td>198</td>\n",
       "      <td>198</td>\n",
       "      <td>198</td>\n",
       "      <td>198</td>\n",
       "      <td>198</td>\n",
       "    </tr>\n",
       "    <tr>\n",
       "      <th>Hold</th>\n",
       "      <td>1778</td>\n",
       "      <td>1778</td>\n",
       "      <td>1778</td>\n",
       "      <td>1778</td>\n",
       "      <td>1778</td>\n",
       "      <td>1778</td>\n",
       "    </tr>\n",
       "    <tr>\n",
       "      <th>Sell</th>\n",
       "      <td>225</td>\n",
       "      <td>225</td>\n",
       "      <td>225</td>\n",
       "      <td>225</td>\n",
       "      <td>225</td>\n",
       "      <td>225</td>\n",
       "    </tr>\n",
       "  </tbody>\n",
       "</table>\n",
       "</div>"
      ],
      "text/plain": [
       "        Date  Reward  Shares  Close  Cash  Total\n",
       "Action                                          \n",
       "Buy      198     198     198    198   198    198\n",
       "Hold    1778    1778    1778   1778  1778   1778\n",
       "Sell     225     225     225    225   225    225"
      ]
     },
     "execution_count": 65,
     "metadata": {},
     "output_type": "execute_result"
    }
   ],
   "source": [
    "rec.groupby(\"Action\").count()"
   ]
  },
  {
   "cell_type": "markdown",
   "metadata": {},
   "source": [
    "### PPO Model Algorithm"
   ]
  },
  {
   "cell_type": "code",
   "execution_count": 66,
   "metadata": {},
   "outputs": [
    {
     "name": "stdout",
     "output_type": "stream",
     "text": [
      "Using cpu device\n",
      "Wrapping the env with a `Monitor` wrapper\n",
      "Wrapping the env in a DummyVecEnv.\n"
     ]
    },
    {
     "name": "stderr",
     "output_type": "stream",
     "text": [
      "C:\\Python\\lib\\site-packages\\stable_baselines3\\common\\vec_env\\patch_gym.py:50: UserWarning: You provided an OpenAI Gym environment. We strongly recommend transitioning to Gymnasium environments. Stable-Baselines3 is automatically wrapping your environments in a compatibility layer, which could potentially cause issues.\n",
      "  \"You provided an OpenAI Gym environment. \"\n"
     ]
    }
   ],
   "source": [
    "# Initializing model\n",
    "\n",
    "model_ppo =  PPO('MlpPolicy',env, learning_rate = lr_schedule, verbose = 1, device = device, seed = seed_value)"
   ]
  },
  {
   "cell_type": "code",
   "execution_count": 67,
   "metadata": {},
   "outputs": [
    {
     "name": "stdout",
     "output_type": "stream",
     "text": [
      "Wrapping the env with a `Monitor` wrapper\n",
      "Wrapping the env in a DummyVecEnv.\n"
     ]
    }
   ],
   "source": [
    "# Saving the Model\n",
    "\n",
    "model_ppo.save('nyse_ppo_model.pt')\n",
    "model_ppo = PPO.load('nyse_ppo_model.pt',env=env)"
   ]
  },
  {
   "cell_type": "code",
   "execution_count": 68,
   "metadata": {},
   "outputs": [
    {
     "name": "stdout",
     "output_type": "stream",
     "text": [
      "Wrapping the env with a `Monitor` wrapper\n",
      "Wrapping the env in a DummyVecEnv.\n",
      "Logging to /tmp/sb3_log/\n"
     ]
    },
    {
     "data": {
      "application/vnd.jupyter.widget-view+json": {
       "model_id": "c3a6d9f54c7346478a4a231d9e0aa692",
       "version_major": 2,
       "version_minor": 0
      },
      "text/plain": [
       "Output()"
      ]
     },
     "metadata": {},
     "output_type": "display_data"
    },
    {
     "data": {
      "text/html": [
       "<pre style=\"white-space:pre;overflow-x:auto;line-height:normal;font-family:Menlo,'DejaVu Sans Mono',consolas,'Courier New',monospace\"></pre>\n"
      ],
      "text/plain": []
     },
     "metadata": {},
     "output_type": "display_data"
    },
    {
     "name": "stdout",
     "output_type": "stream",
     "text": [
      "0\n",
      "Wrapping the env with a `Monitor` wrapper\n",
      "Wrapping the env in a DummyVecEnv.\n",
      "Logging to /tmp/sb3_log/\n"
     ]
    },
    {
     "data": {
      "application/vnd.jupyter.widget-view+json": {
       "model_id": "f6f014a8197a4573b887071414bf85a6",
       "version_major": 2,
       "version_minor": 0
      },
      "text/plain": [
       "Output()"
      ]
     },
     "metadata": {},
     "output_type": "display_data"
    },
    {
     "data": {
      "text/html": [
       "<pre style=\"white-space:pre;overflow-x:auto;line-height:normal;font-family:Menlo,'DejaVu Sans Mono',consolas,'Courier New',monospace\"></pre>\n"
      ],
      "text/plain": []
     },
     "metadata": {},
     "output_type": "display_data"
    },
    {
     "name": "stdout",
     "output_type": "stream",
     "text": [
      "1\n",
      "Wrapping the env with a `Monitor` wrapper\n",
      "Wrapping the env in a DummyVecEnv.\n",
      "Logging to /tmp/sb3_log/\n"
     ]
    },
    {
     "data": {
      "application/vnd.jupyter.widget-view+json": {
       "model_id": "408eecaccaf54bc2b9015c073a406bd7",
       "version_major": 2,
       "version_minor": 0
      },
      "text/plain": [
       "Output()"
      ]
     },
     "metadata": {},
     "output_type": "display_data"
    },
    {
     "data": {
      "text/html": [
       "<pre style=\"white-space:pre;overflow-x:auto;line-height:normal;font-family:Menlo,'DejaVu Sans Mono',consolas,'Courier New',monospace\"></pre>\n"
      ],
      "text/plain": []
     },
     "metadata": {},
     "output_type": "display_data"
    },
    {
     "name": "stdout",
     "output_type": "stream",
     "text": [
      "2\n"
     ]
    }
   ],
   "source": [
    "# Training the model\n",
    "\n",
    "for i in range(3):\n",
    "    model_ppo.save('nyse_ppo_model.pt')\n",
    "    model_ppo = PPO.load('nyse_ppo_model.pt',env=env)\n",
    "    new_logger_ppo = configure(tmp_path, [\"stdout\", \"csv\", \"tensorboard\"])\n",
    "    model_ppo.learn(total_timesteps=5000, log_interval=10,progress_bar = True)\n",
    "\n",
    "    print(i)\n"
   ]
  },
  {
   "cell_type": "code",
   "execution_count": 69,
   "metadata": {},
   "outputs": [
    {
     "data": {
      "text/plain": [
       "[42]"
      ]
     },
     "execution_count": 69,
     "metadata": {},
     "output_type": "execute_result"
    }
   ],
   "source": [
    "# Setting environent seed\n",
    "\n",
    "env_test = trading_env(test_data)\n",
    "env.seed(42)\n",
    "env.action_space.seed(42)\n",
    "env.observation_space.seed(42)\n"
   ]
  },
  {
   "cell_type": "code",
   "execution_count": 70,
   "metadata": {},
   "outputs": [
    {
     "data": {
      "text/plain": [
       "[42]"
      ]
     },
     "execution_count": 70,
     "metadata": {},
     "output_type": "execute_result"
    }
   ],
   "source": [
    "# Prediction environment\n",
    "\n",
    "test_data_denorm = pd.DataFrame(scalar.inverse_transform(test_data), columns = test_data.columns, index = test_data.index)\n",
    "env_denorm_test = trading_env(test_data_denorm)\n",
    "env_denorm_test.seed(42)\n",
    "env_denorm_test.action_space.seed(42)\n",
    "env_denorm_test.observation_space.seed(42)"
   ]
  },
  {
   "cell_type": "code",
   "execution_count": 71,
   "metadata": {},
   "outputs": [
    {
     "name": "stdout",
     "output_type": "stream",
     "text": [
      "Wrapping the env with a `Monitor` wrapper\n",
      "Wrapping the env in a DummyVecEnv.\n"
     ]
    },
    {
     "name": "stderr",
     "output_type": "stream",
     "text": [
      "C:\\Python\\lib\\site-packages\\stable_baselines3\\common\\vec_env\\patch_gym.py:50: UserWarning: You provided an OpenAI Gym environment. We strongly recommend transitioning to Gymnasium environments. Stable-Baselines3 is automatically wrapping your environments in a compatibility layer, which could potentially cause issues.\n",
      "  \"You provided an OpenAI Gym environment. \"\n"
     ]
    }
   ],
   "source": [
    "recs_ppo = []\n",
    "\n",
    "#model.set_env(DummyVecEnv([lambda:env_test]))\n",
    "model_ppo.set_env(env_test)\n",
    "obs = env_test.reset()\n",
    "done= False\n",
    "    \n",
    "rec_ppo = pd.DataFrame()\n",
    "\n",
    "while (done == False):\n",
    "    \n",
    "    action, _ = model_ppo.predict(obs)\n",
    "    \n",
    "    \n",
    "    obs, _, done, info = env_test.step(action)\n",
    "    \n",
    "    obs_2, _2, done_2, info_2 = env_denorm_test.step(action)\n",
    "    \n",
    "    rec_ppo = pd.concat([rec_ppo, pd.DataFrame(info_2, index = [info_2['Date']])])\n",
    "    \n",
    "\n",
    "    recs_ppo.append(rec_ppo)\n",
    "    "
   ]
  },
  {
   "cell_type": "code",
   "execution_count": 72,
   "metadata": {},
   "outputs": [
    {
     "data": {
      "image/png": "[encoded data removed]",
      "text/plain": [
       "<Figure size 720x864 with 1 Axes>"
      ]
     },
     "metadata": {
      "needs_background": "light"
     },
     "output_type": "display_data"
    }
   ],
   "source": [
    "plt.figure(figsize = (10,12))\n",
    "\n",
    "plt.plot(rec_ppo['Total'], label = 'PPO Model Bot Return')\n",
    "plt.plot((100/rec_ppo['Close'][0])*rec_ppo['Close'], label = 'Overall Buy & Hold Return')\n",
    "plt.xlabel('Test Data Time Period')\n",
    "plt.ylabel('Overall Balance')\n",
    "plt.title('Comparing PPO Model Predicted Balance Vs Buy & Hold Strategy', fontsize = 14, fontweight=\"bold\")\n",
    "\n",
    "plt.legend()\n",
    "plt.grid()\n",
    "plt.show()"
   ]
  },
  {
   "cell_type": "code",
   "execution_count": 73,
   "metadata": {},
   "outputs": [
    {
     "data": {
      "text/html": [
       "<div>\n",
       "<style scoped>\n",
       "    .dataframe tbody tr th:only-of-type {\n",
       "        vertical-align: middle;\n",
       "    }\n",
       "\n",
       "    .dataframe tbody tr th {\n",
       "        vertical-align: top;\n",
       "    }\n",
       "\n",
       "    .dataframe thead th {\n",
       "        text-align: right;\n",
       "    }\n",
       "</style>\n",
       "<table border=\"1\" class=\"dataframe\">\n",
       "  <thead>\n",
       "    <tr style=\"text-align: right;\">\n",
       "      <th></th>\n",
       "      <th>Date</th>\n",
       "      <th>Reward</th>\n",
       "      <th>Action</th>\n",
       "      <th>Shares</th>\n",
       "      <th>Close</th>\n",
       "      <th>Cash</th>\n",
       "      <th>Total</th>\n",
       "    </tr>\n",
       "  </thead>\n",
       "  <tbody>\n",
       "    <tr>\n",
       "      <th>2016-06-21</th>\n",
       "      <td>2016-06-21</td>\n",
       "      <td>-0.008518</td>\n",
       "      <td>Sell</td>\n",
       "      <td>0.000000</td>\n",
       "      <td>21.949245</td>\n",
       "      <td>100.000000</td>\n",
       "      <td>100.000000</td>\n",
       "    </tr>\n",
       "    <tr>\n",
       "      <th>2016-06-22</th>\n",
       "      <td>2016-06-22</td>\n",
       "      <td>0.003753</td>\n",
       "      <td>Hold</td>\n",
       "      <td>0.000000</td>\n",
       "      <td>21.866861</td>\n",
       "      <td>100.000000</td>\n",
       "      <td>100.000000</td>\n",
       "    </tr>\n",
       "    <tr>\n",
       "      <th>2016-06-23</th>\n",
       "      <td>2016-06-23</td>\n",
       "      <td>-0.006755</td>\n",
       "      <td>Buy</td>\n",
       "      <td>4.542415</td>\n",
       "      <td>21.992729</td>\n",
       "      <td>0.000000</td>\n",
       "      <td>99.900100</td>\n",
       "    </tr>\n",
       "    <tr>\n",
       "      <th>2016-06-24</th>\n",
       "      <td>2016-06-24</td>\n",
       "      <td>-0.000972</td>\n",
       "      <td>Sell</td>\n",
       "      <td>0.000000</td>\n",
       "      <td>21.374825</td>\n",
       "      <td>96.996227</td>\n",
       "      <td>96.996227</td>\n",
       "    </tr>\n",
       "    <tr>\n",
       "      <th>2016-06-27</th>\n",
       "      <td>2016-06-27</td>\n",
       "      <td>0.013562</td>\n",
       "      <td>Buy</td>\n",
       "      <td>4.600325</td>\n",
       "      <td>21.063581</td>\n",
       "      <td>0.000000</td>\n",
       "      <td>96.899328</td>\n",
       "    </tr>\n",
       "    <tr>\n",
       "      <th>...</th>\n",
       "      <td>...</td>\n",
       "      <td>...</td>\n",
       "      <td>...</td>\n",
       "      <td>...</td>\n",
       "      <td>...</td>\n",
       "      <td>...</td>\n",
       "      <td>...</td>\n",
       "    </tr>\n",
       "    <tr>\n",
       "      <th>2025-03-17</th>\n",
       "      <td>2025-03-17</td>\n",
       "      <td>-0.002389</td>\n",
       "      <td>Sell</td>\n",
       "      <td>0.000000</td>\n",
       "      <td>214.000000</td>\n",
       "      <td>100.762675</td>\n",
       "      <td>100.762675</td>\n",
       "    </tr>\n",
       "    <tr>\n",
       "      <th>2025-03-18</th>\n",
       "      <td>2025-03-18</td>\n",
       "      <td>0.006121</td>\n",
       "      <td>Sell</td>\n",
       "      <td>0.000000</td>\n",
       "      <td>212.690002</td>\n",
       "      <td>100.762675</td>\n",
       "      <td>100.762675</td>\n",
       "    </tr>\n",
       "    <tr>\n",
       "      <th>2025-03-19</th>\n",
       "      <td>2025-03-19</td>\n",
       "      <td>-0.011989</td>\n",
       "      <td>Sell</td>\n",
       "      <td>0.000000</td>\n",
       "      <td>215.240005</td>\n",
       "      <td>100.762675</td>\n",
       "      <td>100.762675</td>\n",
       "    </tr>\n",
       "    <tr>\n",
       "      <th>2025-03-20</th>\n",
       "      <td>2025-03-20</td>\n",
       "      <td>0.005296</td>\n",
       "      <td>Hold</td>\n",
       "      <td>0.000000</td>\n",
       "      <td>214.100006</td>\n",
       "      <td>100.762675</td>\n",
       "      <td>100.762675</td>\n",
       "    </tr>\n",
       "    <tr>\n",
       "      <th>2025-03-21</th>\n",
       "      <td>2025-03-21</td>\n",
       "      <td>-0.020476</td>\n",
       "      <td>Buy</td>\n",
       "      <td>0.461181</td>\n",
       "      <td>218.270004</td>\n",
       "      <td>0.000000</td>\n",
       "      <td>100.662013</td>\n",
       "    </tr>\n",
       "  </tbody>\n",
       "</table>\n",
       "<p>2201 rows × 7 columns</p>\n",
       "</div>"
      ],
      "text/plain": [
       "                 Date    Reward Action    Shares       Close        Cash  \\\n",
       "2016-06-21 2016-06-21 -0.008518   Sell  0.000000   21.949245  100.000000   \n",
       "2016-06-22 2016-06-22  0.003753   Hold  0.000000   21.866861  100.000000   \n",
       "2016-06-23 2016-06-23 -0.006755    Buy  4.542415   21.992729    0.000000   \n",
       "2016-06-24 2016-06-24 -0.000972   Sell  0.000000   21.374825   96.996227   \n",
       "2016-06-27 2016-06-27  0.013562    Buy  4.600325   21.063581    0.000000   \n",
       "...               ...       ...    ...       ...         ...         ...   \n",
       "2025-03-17 2025-03-17 -0.002389   Sell  0.000000  214.000000  100.762675   \n",
       "2025-03-18 2025-03-18  0.006121   Sell  0.000000  212.690002  100.762675   \n",
       "2025-03-19 2025-03-19 -0.011989   Sell  0.000000  215.240005  100.762675   \n",
       "2025-03-20 2025-03-20  0.005296   Hold  0.000000  214.100006  100.762675   \n",
       "2025-03-21 2025-03-21 -0.020476    Buy  0.461181  218.270004    0.000000   \n",
       "\n",
       "                 Total  \n",
       "2016-06-21  100.000000  \n",
       "2016-06-22  100.000000  \n",
       "2016-06-23   99.900100  \n",
       "2016-06-24   96.996227  \n",
       "2016-06-27   96.899328  \n",
       "...                ...  \n",
       "2025-03-17  100.762675  \n",
       "2025-03-18  100.762675  \n",
       "2025-03-19  100.762675  \n",
       "2025-03-20  100.762675  \n",
       "2025-03-21  100.662013  \n",
       "\n",
       "[2201 rows x 7 columns]"
      ]
     },
     "execution_count": 73,
     "metadata": {},
     "output_type": "execute_result"
    }
   ],
   "source": [
    "rec_ppo"
   ]
  },
  {
   "cell_type": "code",
   "execution_count": 74,
   "metadata": {},
   "outputs": [
    {
     "data": {
      "text/html": [
       "<div>\n",
       "<style scoped>\n",
       "    .dataframe tbody tr th:only-of-type {\n",
       "        vertical-align: middle;\n",
       "    }\n",
       "\n",
       "    .dataframe tbody tr th {\n",
       "        vertical-align: top;\n",
       "    }\n",
       "\n",
       "    .dataframe thead th {\n",
       "        text-align: right;\n",
       "    }\n",
       "</style>\n",
       "<table border=\"1\" class=\"dataframe\">\n",
       "  <thead>\n",
       "    <tr style=\"text-align: right;\">\n",
       "      <th></th>\n",
       "      <th>Date</th>\n",
       "      <th>Reward</th>\n",
       "      <th>Shares</th>\n",
       "      <th>Close</th>\n",
       "      <th>Cash</th>\n",
       "      <th>Total</th>\n",
       "    </tr>\n",
       "    <tr>\n",
       "      <th>Action</th>\n",
       "      <th></th>\n",
       "      <th></th>\n",
       "      <th></th>\n",
       "      <th></th>\n",
       "      <th></th>\n",
       "      <th></th>\n",
       "    </tr>\n",
       "  </thead>\n",
       "  <tbody>\n",
       "    <tr>\n",
       "      <th>Buy</th>\n",
       "      <td>436</td>\n",
       "      <td>436</td>\n",
       "      <td>436</td>\n",
       "      <td>436</td>\n",
       "      <td>436</td>\n",
       "      <td>436</td>\n",
       "    </tr>\n",
       "    <tr>\n",
       "      <th>Hold</th>\n",
       "      <td>631</td>\n",
       "      <td>631</td>\n",
       "      <td>631</td>\n",
       "      <td>631</td>\n",
       "      <td>631</td>\n",
       "      <td>631</td>\n",
       "    </tr>\n",
       "    <tr>\n",
       "      <th>Sell</th>\n",
       "      <td>1134</td>\n",
       "      <td>1134</td>\n",
       "      <td>1134</td>\n",
       "      <td>1134</td>\n",
       "      <td>1134</td>\n",
       "      <td>1134</td>\n",
       "    </tr>\n",
       "  </tbody>\n",
       "</table>\n",
       "</div>"
      ],
      "text/plain": [
       "        Date  Reward  Shares  Close  Cash  Total\n",
       "Action                                          \n",
       "Buy      436     436     436    436   436    436\n",
       "Hold     631     631     631    631   631    631\n",
       "Sell    1134    1134    1134   1134  1134   1134"
      ]
     },
     "execution_count": 74,
     "metadata": {},
     "output_type": "execute_result"
    }
   ],
   "source": [
    "rec_ppo.groupby(\"Action\").count()"
   ]
  },
  {
   "cell_type": "code",
   "execution_count": 75,
   "metadata": {},
   "outputs": [
    {
     "data": {
      "image/png": "[encoded data removed]",
      "text/plain": [
       "<Figure size 720x864 with 1 Axes>"
      ]
     },
     "metadata": {
      "needs_background": "light"
     },
     "output_type": "display_data"
    }
   ],
   "source": [
    "# Comparing PPO vs DQN Results Plot\n",
    "\n",
    "plt.figure(figsize = (10,12))\n",
    "\n",
    "plt.plot(rec_ppo['Total'], label = 'PPO Model Bot Return', color = 'red')\n",
    "plt.plot(rec['Total'], label = 'DQN Model Bot Return', color = 'blue')\n",
    "plt.xlabel('Test Data Time Period')\n",
    "plt.ylabel('Overall Balance')\n",
    "plt.title('Comparing PPO Model Final Balance Vs DQN Model Final Balance', fontsize = 14, fontweight=\"bold\")\n",
    "\n",
    "plt.legend()\n",
    "plt.grid()\n",
    "plt.show()"
   ]
  },
  {
   "cell_type": "markdown",
   "metadata": {},
   "source": [
    "### Model Evaluation And Comparison"
   ]
  },
  {
   "cell_type": "markdown",
   "metadata": {},
   "source": [
    "### 1. Total Rewards And Average Rewards Per Step By Test Data\n",
    "\n",
    "Overall performance in terms of rewards accumulated"
   ]
  },
  {
   "cell_type": "markdown",
   "metadata": {},
   "source": [
    "#### DQN Model"
   ]
  },
  {
   "cell_type": "code",
   "execution_count": 39,
   "metadata": {},
   "outputs": [
    {
     "name": "stdout",
     "output_type": "stream",
     "text": [
      "count    2201.000000\n",
      "mean       -0.307569\n",
      "std         0.393681\n",
      "min        -0.579092\n",
      "25%        -0.500000\n",
      "50%        -0.500000\n",
      "75%        -0.483412\n",
      "max         0.600326\n",
      "Name: Reward, dtype: float64\n",
      "Total Rewards: -676.96\n"
     ]
    }
   ],
   "source": [
    "print(rec['Reward'].describe())\n",
    "print(f'Total Rewards: {rec[\"Reward\"].sum():.2f}')\n"
   ]
  },
  {
   "cell_type": "markdown",
   "metadata": {},
   "source": [
    "#### PPO Model"
   ]
  },
  {
   "cell_type": "code",
   "execution_count": 40,
   "metadata": {},
   "outputs": [
    {
     "name": "stdout",
     "output_type": "stream",
     "text": [
      "count    2201.000000\n",
      "mean       -0.287966\n",
      "std         0.408253\n",
      "min        -0.580061\n",
      "25%        -0.500000\n",
      "50%        -0.500000\n",
      "75%        -0.478992\n",
      "max         0.599225\n",
      "Name: Reward, dtype: float64\n",
      "Total Rewards: -633.81\n"
     ]
    }
   ],
   "source": [
    "print(rec_ppo['Reward'].describe())\n",
    "print(f'Total Rewards: {rec_ppo[\"Reward\"].sum():.2f}')\n"
   ]
  },
  {
   "cell_type": "code",
   "execution_count": 41,
   "metadata": {},
   "outputs": [
    {
     "data": {
      "image/png": "[encoded data removed]",
      "text/plain": [
       "<Figure size 576x576 with 1 Axes>"
      ]
     },
     "metadata": {
      "needs_background": "light"
     },
     "output_type": "display_data"
    }
   ],
   "source": [
    "# Plotting total Model rewards\n",
    "plt.figure(figsize = (8,8))\n",
    "\n",
    "plt.plot(np.cumsum(rec_ppo[\"Reward\"]), label = 'PPO Model Rewards', color = 'red')\n",
    "plt.plot(np.cumsum(rec[\"Reward\"]), label = 'DQN Model Rewards', color = 'blue')\n",
    "plt.xlabel('Test Data Time Period')\n",
    "plt.ylabel('Total Model Rewards')\n",
    "plt.title('Comparing DQN Vs PPO Model Total Rewards Over Test Data', fontsize = 14, fontweight=\"bold\")\n",
    "plt.legend()\n",
    "plt.grid()\n",
    "plt.show()"
   ]
  },
  {
   "cell_type": "markdown",
   "metadata": {},
   "source": [
    "### 2. Learning Efficiency (Reward Per Timestep)\n",
    "\n",
    "Comparing DQN Vs PPO Model"
   ]
  },
  {
   "cell_type": "code",
   "execution_count": 42,
   "metadata": {},
   "outputs": [],
   "source": [
    "def learning_efficiency(env, model, num_episodes = 10):\n",
    "    efficiency = []\n",
    "    total_rewards = 0\n",
    "    total_steps = 0\n",
    "    \n",
    "    \n",
    "    for i in range(num_episodes):\n",
    "        \n",
    "        # Set all relevant seeds\n",
    "        random.seed(seed_value)                \n",
    "        np.random.seed(seed_value)             \n",
    "        torch.manual_seed(seed_value)         \n",
    "        torch.cuda.manual_seed_all(seed_value) \n",
    "        set_random_seed(seed_value)            \n",
    "        \n",
    "        env.seed(seed_value)\n",
    "        env.action_space.seed(seed_value)\n",
    "        \n",
    "        obs = env.reset()\n",
    "        # Set environment seed\n",
    "\n",
    "        done = False\n",
    "    \n",
    "        while not done:\n",
    "            action = model.predict(obs)[0]\n",
    "            obs,reward, done, info = env.step(action)\n",
    "            total_rewards += reward\n",
    "            total_steps += 1\n",
    "        efficiency.append(total_rewards/total_steps)\n",
    "        print(i)\n",
    "    \n",
    "    total_efficiency = total_rewards/total_steps\n",
    "    \n",
    "    return efficiency, total_efficiency"
   ]
  },
  {
   "cell_type": "code",
   "execution_count": 43,
   "metadata": {},
   "outputs": [
    {
     "data": {
      "text/plain": [
       "[42]"
      ]
     },
     "execution_count": 43,
     "metadata": {},
     "output_type": "execute_result"
    }
   ],
   "source": [
    "# Set all relevant seeds\n",
    "random.seed(seed_value)                \n",
    "np.random.seed(seed_value)             \n",
    "torch.manual_seed(seed_value)         \n",
    "torch.cuda.manual_seed_all(seed_value) \n",
    "set_random_seed(seed_value)            \n",
    "        \n",
    "env_test.seed(seed_value)\n",
    "env_test.action_space.seed(seed_value)"
   ]
  },
  {
   "cell_type": "code",
   "execution_count": 44,
   "metadata": {},
   "outputs": [
    {
     "name": "stdout",
     "output_type": "stream",
     "text": [
      "0\n",
      "1\n",
      "2\n",
      "3\n",
      "4\n",
      "5\n",
      "6\n",
      "7\n",
      "8\n",
      "9\n",
      "0\n",
      "1\n",
      "2\n",
      "3\n",
      "4\n",
      "5\n",
      "6\n",
      "7\n",
      "8\n",
      "9\n"
     ]
    }
   ],
   "source": [
    "# Learning Efficiency Parameters\n",
    "\n",
    "dqn_ep_efficiency, dqn_total_efficiency = learning_efficiency(env_test, model)\n",
    "ppo_ep_efficiency, ppo_total_efficiency = learning_efficiency(env_test, model_ppo)"
   ]
  },
  {
   "cell_type": "code",
   "execution_count": 45,
   "metadata": {},
   "outputs": [
    {
     "data": {
      "image/png": "[encoded data removed]",
      "text/plain": [
       "<Figure size 576x576 with 1 Axes>"
      ]
     },
     "metadata": {
      "needs_background": "light"
     },
     "output_type": "display_data"
    }
   ],
   "source": [
    "# Model Learning Efficiency\n",
    "\n",
    "plt.figure(figsize = (8,8))\n",
    "\n",
    "plt.plot(dqn_ep_efficiency, label = 'DQN Model Rewards Per Timestep', color = 'blue')\n",
    "plt.plot(ppo_ep_efficiency, label = 'PPO Model Rewards Per Timestep', color = 'red')\n",
    "plt.xlabel('Episode')\n",
    "plt.ylabel('Model Rewards Per Timestep By Episode')\n",
    "plt.title('Comparing DQN Vs PPO Model Learning Efficiency By Episode', fontsize = 14, fontweight=\"bold\")\n",
    "plt.legend()\n",
    "plt.grid()\n",
    "plt.show()"
   ]
  },
  {
   "cell_type": "markdown",
   "metadata": {},
   "source": [
    "### 3. Exploration vs Exploitation (Model Stability)\n",
    "\n",
    "Calculating PPO Model Entropy And DQN Model Epsilon and comparing"
   ]
  },
  {
   "cell_type": "markdown",
   "metadata": {},
   "source": [
    "#### For PPO Model"
   ]
  },
  {
   "cell_type": "code",
   "execution_count": 46,
   "metadata": {},
   "outputs": [],
   "source": [
    "def exploration_entropy(env, model, num_episodes = 10):\n",
    "    entropies = []\n",
    "    episode_entropies = []\n",
    "    \n",
    "    for i in range(num_episodes):\n",
    "        \n",
    "        # Set all relevant seeds\n",
    "        random.seed(seed_value)                \n",
    "        np.random.seed(seed_value)             \n",
    "        torch.manual_seed(seed_value)         \n",
    "        torch.cuda.manual_seed_all(seed_value) \n",
    "        set_random_seed(seed_value)            \n",
    "        \n",
    "        env.seed(seed_value)\n",
    "        env.action_space.seed(seed_value)\n",
    "        \n",
    "\n",
    "        obs = env.reset()\n",
    "        done = False\n",
    "        \n",
    "        while not done:\n",
    "            obs = np.asarray(obs, dtype=np.float32)  # Convert to proper dtype\n",
    "            obs_tensor = obs_as_tensor(obs, 'cpu').unsqueeze(0) \n",
    "            dist = model.policy.get_distribution(obs_tensor)\n",
    "            entropy = dist.entropy().item()\n",
    "            entropies.append(entropy)\n",
    "            action = dist.sample().cpu().numpy()\n",
    "            obs, _, done,info = env.step(action)\n",
    "        \n",
    "        # mean entropy at the end of each episode\n",
    "        \n",
    "        episode_entropies.append(np.mean(entropies))\n",
    "        \n",
    "        # Check which episode is running\n",
    "        print(i)\n",
    "            \n",
    "    return entropies,episode_entropies, np.mean(entropies)"
   ]
  },
  {
   "cell_type": "code",
   "execution_count": 47,
   "metadata": {},
   "outputs": [
    {
     "data": {
      "text/plain": [
       "[42]"
      ]
     },
     "execution_count": 47,
     "metadata": {},
     "output_type": "execute_result"
    }
   ],
   "source": [
    "# Set all relevant seeds\n",
    "random.seed(seed_value)                \n",
    "np.random.seed(seed_value)             \n",
    "torch.manual_seed(seed_value)         \n",
    "torch.cuda.manual_seed_all(seed_value) \n",
    "set_random_seed(seed_value)            \n",
    "        \n",
    "env_test.seed(seed_value)\n",
    "env_test.action_space.seed(seed_value)"
   ]
  },
  {
   "cell_type": "code",
   "execution_count": 48,
   "metadata": {},
   "outputs": [
    {
     "name": "stderr",
     "output_type": "stream",
     "text": [
      "C:\\Python\\lib\\site-packages\\numpy\\core\\fromnumeric.py:1822: VisibleDeprecationWarning: Creating an ndarray from ragged nested sequences (which is a list-or-tuple of lists-or-tuples-or ndarrays with different lengths or shapes) is deprecated. If you meant to do this, you must specify 'dtype=object' when creating the ndarray.\n",
      "  return asanyarray(a).ravel(order=order)\n"
     ]
    },
    {
     "name": "stdout",
     "output_type": "stream",
     "text": [
      "0\n",
      "1\n",
      "2\n",
      "3\n",
      "4\n",
      "5\n",
      "6\n",
      "7\n",
      "8\n",
      "9\n"
     ]
    }
   ],
   "source": [
    "ppo_model_entropies, ppo_model_episode_end_entropies, ppo_model_avg_entropy = exploration_entropy(env_test,model_ppo) "
   ]
  },
  {
   "cell_type": "code",
   "execution_count": 49,
   "metadata": {},
   "outputs": [
    {
     "data": {
      "image/png": "[encoded data removed]",
      "text/plain": [
       "<Figure size 576x576 with 1 Axes>"
      ]
     },
     "metadata": {
      "needs_background": "light"
     },
     "output_type": "display_data"
    }
   ],
   "source": [
    "# Plotting\n",
    "\n",
    "\n",
    "plt.figure(figsize = (8,8))\n",
    "\n",
    "plt.plot(ppo_model_episode_end_entropies, label = 'PPO Model Entropy Values (Exploration vs Deterministic)', color = 'red')\n",
    "\n",
    "plt.xlabel('Training Episode')\n",
    "plt.ylabel('PPO Model Entropy Values')\n",
    "plt.title('PPO Model Entropy Values Over Training (To Determine Stability vs Exploration)', fontsize = 14, fontweight=\"bold\")\n",
    "plt.legend()\n",
    "plt.grid()\n",
    "plt.show()"
   ]
  },
  {
   "cell_type": "markdown",
   "metadata": {},
   "source": [
    "#### DQN Model"
   ]
  },
  {
   "cell_type": "code",
   "execution_count": 50,
   "metadata": {},
   "outputs": [],
   "source": [
    "# DQN model Parameters specified\n",
    "\n",
    "exploration_initial_eps  = 1\n",
    "exploration_final_eps = 0.1\n",
    "exploration_fraction = 0.5\n",
    "\n",
    "# Getting Epsilon values\n",
    "epsilon_fn = get_linear_fn(exploration_initial_eps, exploration_final_eps, exploration_fraction)"
   ]
  },
  {
   "cell_type": "code",
   "execution_count": 51,
   "metadata": {},
   "outputs": [],
   "source": [
    "# Calculating Epsilon values over Training Period\n",
    "\n",
    "epsilon_val = []\n",
    "for i in range(0,101):\n",
    "    epsilon_val.append(epsilon_fn(1 - (i/100)))\n",
    "    \n"
   ]
  },
  {
   "cell_type": "code",
   "execution_count": 52,
   "metadata": {},
   "outputs": [
    {
     "data": {
      "image/png": "[encoded data removed]",
      "text/plain": [
       "<Figure size 576x576 with 1 Axes>"
      ]
     },
     "metadata": {
      "needs_background": "light"
     },
     "output_type": "display_data"
    }
   ],
   "source": [
    "# Epsilon values plotting\n",
    "\n",
    "plt.figure(figsize = (8,8))\n",
    "\n",
    "plt.plot(epsilon_val, label = 'DQN Model Epsilon (Exploration vs Deterministic)', color = 'blue')\n",
    "\n",
    "plt.xlabel('Training Fraction')\n",
    "plt.ylabel('Epsilon Values Over Training')\n",
    "plt.title('Epsilon Values Over Training (To Determine Stability vs Exploration)', fontsize = 14, fontweight=\"bold\")\n",
    "plt.legend()\n",
    "plt.grid()\n",
    "plt.show()"
   ]
  },
  {
   "cell_type": "markdown",
   "metadata": {},
   "source": [
    "### 4. Model Stability\n",
    "\n",
    "Comparing DQN And PPO Model Stability Using Standard Deviation Of Rewards Per Timestep"
   ]
  },
  {
   "cell_type": "code",
   "execution_count": 53,
   "metadata": {},
   "outputs": [],
   "source": [
    "def model_stability(env, model, num_episodes = 10):\n",
    "    rewards = []\n",
    "    reward_std = []\n",
    "    for i in range(num_episodes):\n",
    "        \n",
    "\n",
    "\n",
    "        \n",
    "        # Set all relevant seeds\n",
    "        random.seed(seed_value)                \n",
    "        np.random.seed(seed_value)             \n",
    "        torch.manual_seed(seed_value)         \n",
    "        torch.cuda.manual_seed_all(seed_value) \n",
    "        set_random_seed(seed_value)            \n",
    "        \n",
    "        env.seed(seed_value)\n",
    "        env.action_space.seed(seed_value)\n",
    "        \n",
    "        obs = env.reset()\n",
    "        done = False\n",
    "        \n",
    "        while not done:\n",
    "            \n",
    "            action = model.predict(obs)[0]\n",
    "            obs, reward, done, info = env.step(action)\n",
    "            rewards.append(reward)\n",
    "        reward_std.append(np.std(rewards))\n",
    "        \n",
    "        print(i)\n",
    "        \n",
    "    return reward_std\n",
    "            \n",
    "        "
   ]
  },
  {
   "cell_type": "code",
   "execution_count": 54,
   "metadata": {},
   "outputs": [
    {
     "data": {
      "text/plain": [
       "[42]"
      ]
     },
     "execution_count": 54,
     "metadata": {},
     "output_type": "execute_result"
    }
   ],
   "source": [
    "# Set all relevant seeds\n",
    "random.seed(seed_value)                \n",
    "np.random.seed(seed_value)             \n",
    "torch.manual_seed(seed_value)         \n",
    "torch.cuda.manual_seed_all(seed_value) \n",
    "set_random_seed(seed_value)            \n",
    "        \n",
    "env_test.seed(seed_value)\n",
    "env_test.action_space.seed(seed_value)"
   ]
  },
  {
   "cell_type": "code",
   "execution_count": 55,
   "metadata": {},
   "outputs": [
    {
     "name": "stdout",
     "output_type": "stream",
     "text": [
      "0\n",
      "1\n",
      "2\n",
      "3\n",
      "4\n",
      "5\n",
      "6\n",
      "7\n",
      "8\n",
      "9\n",
      "0\n",
      "1\n",
      "2\n",
      "3\n",
      "4\n",
      "5\n",
      "6\n",
      "7\n",
      "8\n",
      "9\n"
     ]
    }
   ],
   "source": [
    "# Calculating Model stability\n",
    "\n",
    "dqn_model_std_by_ep = model_stability(env_test, model)\n",
    "ppo_model_std_by_ep = model_stability(env_test, model_ppo)"
   ]
  },
  {
   "cell_type": "code",
   "execution_count": 56,
   "metadata": {},
   "outputs": [
    {
     "data": {
      "image/png": "[encoded data removed]",
      "text/plain": [
       "<Figure size 576x576 with 1 Axes>"
      ]
     },
     "metadata": {
      "needs_background": "light"
     },
     "output_type": "display_data"
    }
   ],
   "source": [
    "# Plotting Model Std\n",
    "\n",
    "plt.figure(figsize = (8,8))\n",
    "\n",
    "plt.plot(dqn_model_std_by_ep, label = 'DQN Model Stability (DQN Model Reward Standard Deviation By Episode)', color = 'blue')\n",
    "plt.plot(ppo_model_std_by_ep, label = 'PPO Model Stability (PPO Model Reward Standard Deviation By Episode)', color = 'red')\n",
    "\n",
    "plt.xlabel('Episodes')\n",
    "plt.ylabel('Rewards Standard Deviation')\n",
    "plt.title('Model Stability (Rewards Standard Deviation By Episode)', fontsize = 14, fontweight=\"bold\")\n",
    "\n",
    "plt.legend()\n",
    "plt.grid()\n",
    "plt.show()"
   ]
  },
  {
   "cell_type": "markdown",
   "metadata": {},
   "source": [
    "### 5. Model Testing Loss\n",
    "\n",
    "Comparing MSE Between DQN And PPO Model"
   ]
  },
  {
   "cell_type": "markdown",
   "metadata": {},
   "source": [
    "#### DQN Loss"
   ]
  },
  {
   "cell_type": "code",
   "execution_count": 57,
   "metadata": {},
   "outputs": [],
   "source": [
    "def dqn_loss(env, model, num_episodes = 10):\n",
    "    losses = []\n",
    "\n",
    "    \n",
    "    for i in range(num_episodes):\n",
    "        loss_temp = []\n",
    "        # Set all relevant seeds\n",
    "        random.seed(seed_value)                \n",
    "        np.random.seed(seed_value)             \n",
    "        torch.manual_seed(seed_value)         \n",
    "        torch.cuda.manual_seed_all(seed_value) \n",
    "        set_random_seed(seed_value)            \n",
    "        \n",
    "        env.seed(seed_value)\n",
    "        env.action_space.seed(seed_value)\n",
    "        \n",
    "        obs = env.reset()\n",
    "        done = False\n",
    "        \n",
    "        while not done:\n",
    "            \n",
    "            obs = np.asarray(obs, dtype=np.float32)  # Convert to proper dtype\n",
    "            obs_tensor = obs_as_tensor(obs, 'cpu').unsqueeze(0)\n",
    "            q_values = model.q_net(obs_tensor)\n",
    "            action = torch.argmax(q_values, dim=1).cpu().numpy()\n",
    "            \n",
    "            obs, reward, done, info = env.step(action)\n",
    "            \n",
    "            target_q_value = reward\n",
    "            loss = F.mse_loss(q_values[0, action], torch.tensor([target_q_value]))\n",
    "            loss = np.sqrt(loss.item())/abs(target_q_value)                 \n",
    "            loss_temp.append(loss)\n",
    "                              \n",
    "        losses.append(np.mean(loss_temp))\n",
    "        \n",
    "        print(i)\n",
    "            \n",
    "    return losses                     "
   ]
  },
  {
   "cell_type": "code",
   "execution_count": 58,
   "metadata": {},
   "outputs": [
    {
     "name": "stdout",
     "output_type": "stream",
     "text": [
      "0\n",
      "1\n",
      "2\n",
      "3\n",
      "4\n",
      "5\n",
      "6\n",
      "7\n",
      "8\n",
      "9\n"
     ]
    }
   ],
   "source": [
    "# Calculating Q Value MSE Loss\n",
    "\n",
    "dqn_model_loss_percent = dqn_loss(env_test, model)"
   ]
  },
  {
   "cell_type": "markdown",
   "metadata": {},
   "source": [
    "#### PPO Model"
   ]
  },
  {
   "cell_type": "code",
   "execution_count": 59,
   "metadata": {},
   "outputs": [],
   "source": [
    "# PPO MSE Loss\n",
    "\n",
    "def ppo_loss(env, model, num_episodes = 10):\n",
    "    losses = []\n",
    "    \n",
    "    for i in range(num_episodes):\n",
    "        loss_temp = []\n",
    "        \n",
    "        # Set all relevant seeds\n",
    "        random.seed(seed_value)                \n",
    "        np.random.seed(seed_value)             \n",
    "        torch.manual_seed(seed_value)         \n",
    "        torch.cuda.manual_seed_all(seed_value) \n",
    "        set_random_seed(seed_value)            \n",
    "        \n",
    "        env.seed(seed_value)\n",
    "        env.action_space.seed(seed_value)\n",
    "        \n",
    "        obs = env.reset()\n",
    "        done = False\n",
    "        \n",
    "        while not done:\n",
    "            obs = np.asarray(obs, dtype = np.float32)\n",
    "            obs_tensor = obs_as_tensor(obs, 'cpu').unsqueeze(0)\n",
    "            dist = model.policy.get_distribution(obs_tensor)\n",
    "            value = model.policy.predict_values(obs_tensor)\n",
    "            \n",
    "            action = model.predict(obs)[0]\n",
    "            obs, reward, done, info = env.step(action)\n",
    "            \n",
    "            # PPO Loss\n",
    "            value_loss = F.mse_loss(value, torch.tensor([reward]))\n",
    "            \n",
    "            value_loss = float(np.sqrt(value_loss.item())/abs(value))\n",
    "            \n",
    "            loss_temp.append(value_loss)\n",
    "            \n",
    "\n",
    "        losses.append(np.mean(loss_temp))\n",
    "        \n",
    "        print(i)\n",
    "        \n",
    "    return losses\n",
    "        "
   ]
  },
  {
   "cell_type": "code",
   "execution_count": 60,
   "metadata": {},
   "outputs": [
    {
     "name": "stderr",
     "output_type": "stream",
     "text": [
      "C:\\Python\\lib\\site-packages\\ipykernel_launcher.py:32: UserWarning: Using a target size (torch.Size([1])) that is different to the input size (torch.Size([1, 1])). This will likely lead to incorrect results due to broadcasting. Please ensure they have the same size.\n"
     ]
    },
    {
     "name": "stdout",
     "output_type": "stream",
     "text": [
      "0\n",
      "1\n",
      "2\n",
      "3\n",
      "4\n",
      "5\n",
      "6\n",
      "7\n",
      "8\n",
      "9\n"
     ]
    }
   ],
   "source": [
    "# Calculating MSE Loss For PPO\n",
    "\n",
    "ppo_model_loss_percent = ppo_loss(env_test, model_ppo)"
   ]
  },
  {
   "cell_type": "code",
   "execution_count": 64,
   "metadata": {},
   "outputs": [
    {
     "data": {
      "image/png": "[encoded data removed]",
      "text/plain": [
       "<Figure size 576x576 with 1 Axes>"
      ]
     },
     "metadata": {
      "needs_background": "light"
     },
     "output_type": "display_data"
    }
   ],
   "source": [
    "# Plotting Model Test MSE Loss\n",
    "\n",
    "plt.figure(figsize = (8,8))\n",
    "\n",
    "plt.plot(dqn_model_loss_percent, label = 'DQN Model Test Loss (DQN Model target Q Value vs Actual Q Value)', color = 'blue')\n",
    "plt.plot(ppo_model_loss_percent, label = 'PPO Model Test Loss (PPO Model Predicted Reward Vs Observed Reward)', color = 'red')\n",
    "\n",
    "plt.xlabel('Episodes')\n",
    "plt.ylabel('MSE Loss Percent')\n",
    "plt.title('Model MSE Loss (Loss By Episode)', fontsize = 14, fontweight=\"bold\")\n",
    "plt.legend()\n",
    "plt.grid()\n",
    "plt.show()"
   ]
  },
  {
   "cell_type": "code",
   "execution_count": null,
   "metadata": {},
   "outputs": [],
   "source": []
  }
 ],
 "metadata": {
  "kernelspec": {
   "display_name": "Python 3",
   "language": "python",
   "name": "python3"
  },
  "language_info": {
   "codemirror_mode": {
    "name": "ipython",
    "version": 3
   },
   "file_extension": ".py",
   "mimetype": "text/x-python",
   "name": "python",
   "nbconvert_exporter": "python",
   "pygments_lexer": "ipython3",
   "version": "3.7.7"
  }
 },
 "nbformat": 4,
 "nbformat_minor": 4
}
